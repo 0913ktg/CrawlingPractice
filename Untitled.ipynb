{
 "cells": [
  {
   "cell_type": "code",
   "execution_count": 1,
   "metadata": {},
   "outputs": [],
   "source": [
    "import os\n",
    "import glob\n",
    "import smtplib\n",
    "import time\n",
    "import pandas as pd\n",
    "\n",
    "from email.utils import formataddr\n",
    "from email.mime.base import MIMEBase\n",
    "from email.mime.text import MIMEText\n",
    "from email.mime.multipart import MIMEMultipart\n",
    "from email import encoders\n",
    "\n",
    "from datetime import datetime\n",
    "\n",
    "today = datetime.today()\n",
    "\n",
    "from_addr = formataddr(('Google mail', '0913ktg@google.com'))\n",
    "to_addr = formataddr(('Naver mail', '0913ktg@naver.com'))\n",
    "\n",
    "#csv 파일이 존재하면 삭제시키기\n",
    "[os.remove(f) for f in glob.glob(\"./*csv\")]\n",
    "\n",
    "#크롤러 실행 시키고 csv파일 저장\n",
    "path = os.getcwd()\n",
    "os.chdir(path)\n",
    "os.system(\"scrapy crawl task1 -o task1.csv -t csv\")\n",
    "time.sleep(40)\n",
    "\n",
    "#저장된 csv파일을 가공\n",
    "source = pd.read_csv('task1.csv', encoding = 'utf-8')\n",
    "korea = source[source['country'] == 'korea'].iloc[:50]\n",
    "china = source[source['country'] == 'china'].iloc[:50]\n",
    "korea = korea.reset_index(drop=True)\n",
    "china = china.reset_index(drop=True)\n",
    "korea.index += 1\n",
    "china.index += 1\n",
    "korea.to_csv(\"korea.csv\", encoding='utf-8')\n",
    "china.to_csv(\"china.csv\", encoding='utf-8')\n",
    "\n",
    "session = None\n",
    "try:\n",
    "    # SMTP 세션 생성\n",
    "    session = smtplib.SMTP('smtp.gmail.com', 587)\n",
    "    session.set_debuglevel(True)\n",
    "    \n",
    "    # SMTP 계정 인증 설정\n",
    "    session.ehlo()\n",
    "    session.starttls()\n",
    "    session.login('0913ktg@gmail.com', 'wpcpcigkoevzktfk')\n",
    " \n",
    "    # 메일 콘텐츠 설정\n",
    "    message = MIMEMultipart(\"alternative\")\n",
    "    \n",
    "    # 메일 송/수신 옵션 설정\n",
    "    message.set_charset('utf-8')\n",
    "    message['From'] = from_addr\n",
    "    message['To'] = to_addr\n",
    "    message['Subject'] = f'{today.year}년{today.month}월{today.day}일 게임 매출 순위 보고서'\n",
    " \n",
    "    # 메일 콘텐츠 - 내용\n",
    "    body = '''\n",
    "    <h4>안녕하세요 김대겸입니다.</h4>\n",
    "    <p>Google play KR 과 App Store CN의 매출 순위 Top 50을 csv파일로 전송합니다.</p>\n",
    "    '''\n",
    "    bodyPart = MIMEText(body, 'html', 'utf-8')\n",
    "    message.attach( bodyPart )\n",
    "\n",
    "    #메일 콘텐츠 - 첨부파일\n",
    "    \n",
    "    filename = 'task1.csv'\n",
    "    attachment = open(filename, 'rb')\n",
    "    \n",
    "    part = MIMEBase('application','octet-stream')\n",
    "    part.set_payload((attachment).read())\n",
    "    encoders.encode_base64(part)\n",
    "    part.add_header('Content-Disposition',\"attachment\", filename= os.path.basename(filename))\n",
    "    message.attach(part)\n",
    "\n",
    "    # 메일 발송\n",
    "    session.sendmail(from_addr, to_addr, message.as_string())   \n",
    "    print( 'Successfully sent the mail!!!' )\n",
    "except Exception as e:\n",
    "    print( e )\n",
    "finally:\n",
    "    if session is not None:\n",
    "        session.quit()"
   ]
  },
  {
   "cell_type": "code",
   "execution_count": 11,
   "metadata": {},
   "outputs": [],
   "source": [
    "from datetime import datetime\n",
    "import pytz"
   ]
  },
  {
   "cell_type": "code",
   "execution_count": 15,
   "metadata": {},
   "outputs": [],
   "source": [
    "KTZ = pytz.timezone('Asia/Seoul')\n",
    "t = datetime.now(KTZ)"
   ]
  },
  {
   "cell_type": "code",
   "execution_count": 26,
   "metadata": {},
   "outputs": [
    {
     "data": {
      "text/plain": [
       "11"
      ]
     },
     "execution_count": 26,
     "metadata": {},
     "output_type": "execute_result"
    }
   ],
   "source": [
    "t.second"
   ]
  },
  {
   "cell_type": "code",
   "execution_count": 4,
   "metadata": {},
   "outputs": [],
   "source": []
  },
  {
   "cell_type": "code",
   "execution_count": null,
   "metadata": {},
   "outputs": [],
   "source": []
  },
  {
   "cell_type": "code",
   "execution_count": null,
   "metadata": {},
   "outputs": [],
   "source": []
  },
  {
   "cell_type": "code",
   "execution_count": null,
   "metadata": {},
   "outputs": [],
   "source": []
  }
 ],
 "metadata": {
  "kernelspec": {
   "display_name": "Python 3",
   "language": "python",
   "name": "python3"
  },
  "language_info": {
   "codemirror_mode": {
    "name": "ipython",
    "version": 3
   },
   "file_extension": ".py",
   "mimetype": "text/x-python",
   "name": "python",
   "nbconvert_exporter": "python",
   "pygments_lexer": "ipython3",
   "version": "3.6.9"
  }
 },
 "nbformat": 4,
 "nbformat_minor": 4
}
